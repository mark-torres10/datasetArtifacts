{
 "cells": [
  {
   "cell_type": "markdown",
   "metadata": {},
   "source": [
    "# Load backtranslated samples\n",
    "\n",
    "After backtranslation, load samples"
   ]
  },
  {
   "cell_type": "code",
   "execution_count": 2,
   "metadata": {},
   "outputs": [],
   "source": [
    "import json\n",
    "import os"
   ]
  },
  {
   "cell_type": "code",
   "execution_count": 6,
   "metadata": {},
   "outputs": [],
   "source": [
    "ROOT_SPANISH_DIR = \"../data/translations/es\"\n",
    "ROOT_JAPANESE_DIR = \"../data/translations/ja\""
   ]
  },
  {
   "cell_type": "code",
   "execution_count": 7,
   "metadata": {},
   "outputs": [
    {
     "data": {
      "text/plain": [
       "['56de57394396321400ee2830.json', '56de57394396321400ee2831.json']"
      ]
     },
     "execution_count": 7,
     "metadata": {},
     "output_type": "execute_result"
    }
   ],
   "source": [
    "os.listdir(ROOT_SPANISH_DIR)"
   ]
  },
  {
   "cell_type": "code",
   "execution_count": 9,
   "metadata": {},
   "outputs": [],
   "source": [
    "data = []"
   ]
  },
  {
   "cell_type": "code",
   "execution_count": 11,
   "metadata": {},
   "outputs": [],
   "source": [
    "for filename in os.listdir(ROOT_SPANISH_DIR):\n",
    "    fp = os.path.join(ROOT_SPANISH_DIR, filename)\n",
    "    with open(fp, 'r') as f:\n",
    "        data.append(json.load(f))"
   ]
  },
  {
   "cell_type": "code",
   "execution_count": 13,
   "metadata": {},
   "outputs": [
    {
     "data": {
      "text/plain": [
       "{'id': '56de57394396321400ee2830',\n",
       " 'title': 'Institute_of_technology',\n",
       " 'context': 'In Turkey and the Ottoman Empire, the oldest technical university is Istanbul Technical University. Its graduates contributed to a wide variety of activities in scientific research and development. In 1950s, 2 technical universities were opened in Ankara and Trabzon. In recent years, Yildiz University is reorganized as Yildiz Technical University and 2 institutes of technology were founded in Kocaeli and Izmir. In 2010, another technical university named Bursa Technical University was founded in Bursa. Moreover, a sixth technical university is about to be opened in Konya named Konya Technical University.',\n",
       " 'question': 'When Konya Technical University opens, how many total institutes of technology will there be in Turkey and the Ottoman Empire?',\n",
       " 'answers': {'text': ['six'], 'answer_start': [520]},\n",
       " 'translation': 'Cuando se abra la Universidad Técnica de Konya, ¿cuántos institutos de tecnología habrá en total en Turquía y el Imperio Otomano?',\n",
       " 'backtranslation': 'When Konya Technical University opens, how many institutes of technology will there be in total in Turkey and the Ottoman Empire?'}"
      ]
     },
     "execution_count": 13,
     "metadata": {},
     "output_type": "execute_result"
    }
   ],
   "source": [
    "data[0]"
   ]
  },
  {
   "cell_type": "code",
   "execution_count": null,
   "metadata": {},
   "outputs": [],
   "source": []
  }
 ],
 "metadata": {
  "interpreter": {
   "hash": "de689e674649c5f62214f4dfd7b84d13966361037ae66bb1321bdde5e22abae3"
  },
  "kernelspec": {
   "display_name": "Python 3.9.7 ('.final_project_venv': venv)",
   "language": "python",
   "name": "python3"
  },
  "language_info": {
   "codemirror_mode": {
    "name": "ipython",
    "version": 3
   },
   "file_extension": ".py",
   "mimetype": "text/x-python",
   "name": "python",
   "nbconvert_exporter": "python",
   "pygments_lexer": "ipython3",
   "version": "3.9.7"
  },
  "orig_nbformat": 4
 },
 "nbformat": 4,
 "nbformat_minor": 2
}
