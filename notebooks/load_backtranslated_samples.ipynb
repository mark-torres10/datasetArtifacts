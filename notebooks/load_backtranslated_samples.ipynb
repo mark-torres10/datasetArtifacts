{
 "cells": [
  {
   "cell_type": "markdown",
   "metadata": {},
   "source": [
    "# Load backtranslated samples\n",
    "\n",
    "After backtranslation, load samples"
   ]
  },
  {
   "cell_type": "code",
   "execution_count": 25,
   "metadata": {},
   "outputs": [],
   "source": [
    "import json\n",
    "import os\n",
    "\n",
    "import pandas as pd"
   ]
  },
  {
   "cell_type": "code",
   "execution_count": 19,
   "metadata": {},
   "outputs": [],
   "source": [
    "ROOT_SPANISH_DIR = \"../data/translations/es\"\n",
    "ROOT_JAPANESE_DIR = \"../data/translations/ja\""
   ]
  },
  {
   "cell_type": "markdown",
   "metadata": {},
   "source": [
    "## Write Spanish translated data"
   ]
  },
  {
   "cell_type": "code",
   "execution_count": 20,
   "metadata": {},
   "outputs": [],
   "source": [
    "spanish_data = []"
   ]
  },
  {
   "cell_type": "code",
   "execution_count": 22,
   "metadata": {},
   "outputs": [],
   "source": [
    "for filename in os.listdir(ROOT_SPANISH_DIR):\n",
    "    fp = os.path.join(ROOT_SPANISH_DIR, filename)\n",
    "    with open(fp, 'r') as f:\n",
    "        spanish_data.append(json.load(f))"
   ]
  },
  {
   "cell_type": "code",
   "execution_count": 23,
   "metadata": {},
   "outputs": [
    {
     "data": {
      "text/plain": [
       "1000"
      ]
     },
     "execution_count": 23,
     "metadata": {},
     "output_type": "execute_result"
    }
   ],
   "source": [
    "len(spanish_data)"
   ]
  },
  {
   "cell_type": "code",
   "execution_count": 24,
   "metadata": {},
   "outputs": [],
   "source": [
    "# write back to data\n",
    "CONSOLIDATED_DATA_DIR = \"../data/consolidated\"\n",
    "SPANISH_FILENAME = \"spanish_consolidated_backtranslations.jsonl\"\n",
    "SPANISH_CONSOLIDATED_DATA_FILEPATH = os.path.join(\n",
    "    CONSOLIDATED_DATA_DIR, SPANISH_FILENAME\n",
    ")"
   ]
  },
  {
   "cell_type": "code",
   "execution_count": 26,
   "metadata": {},
   "outputs": [],
   "source": [
    "spanish_df = pd.DataFrame(spanish_data)"
   ]
  },
  {
   "cell_type": "code",
   "execution_count": 28,
   "metadata": {},
   "outputs": [],
   "source": [
    "spanish_df.to_json(SPANISH_CONSOLIDATED_DATA_FILEPATH, orient='records', lines=True)"
   ]
  },
  {
   "cell_type": "markdown",
   "metadata": {},
   "source": [
    "## Write Japanese translated data"
   ]
  },
  {
   "cell_type": "code",
   "execution_count": 39,
   "metadata": {},
   "outputs": [],
   "source": [
    "japanese_data = []"
   ]
  },
  {
   "cell_type": "code",
   "execution_count": 40,
   "metadata": {},
   "outputs": [],
   "source": [
    "for filename in os.listdir(ROOT_JAPANESE_DIR):\n",
    "    fp = os.path.join(ROOT_JAPANESE_DIR, filename)\n",
    "    with open(fp, 'r') as f:\n",
    "        japanese_data.append(json.load(f))"
   ]
  },
  {
   "cell_type": "code",
   "execution_count": 41,
   "metadata": {},
   "outputs": [],
   "source": [
    "# write back to data\n",
    "CONSOLIDATED_DATA_DIR = \"../data/consolidated\"\n",
    "JAPANESE_FILENAME = \"japanese_consolidated_backtranslations.jsonl\"\n",
    "JAPANESE_CONSOLIDATED_DATA_FILEPATH = os.path.join(\n",
    "    CONSOLIDATED_DATA_DIR, JAPANESE_FILENAME\n",
    ")"
   ]
  },
  {
   "cell_type": "code",
   "execution_count": 42,
   "metadata": {},
   "outputs": [],
   "source": [
    "japanese_df = pd.DataFrame(japanese_data)"
   ]
  },
  {
   "cell_type": "code",
   "execution_count": 44,
   "metadata": {},
   "outputs": [
    {
     "data": {
      "text/plain": [
       "{'id': '56dde2609a695914005b964b',\n",
       " 'title': 'Dutch_Republic',\n",
       " 'context': 'Between 1590–1712 the Dutch also possessed one of the strongest and fastest navies in the world, allowing for their varied conquests including breaking the Portuguese sphere of influence on the Indian Ocean and in the Orient, as well as a lucrative slave trade from Africa and the Pacific.',\n",
       " 'question': 'The Dutch operated a slave trade from which locations?',\n",
       " 'answers': {'text': ['Africa and the Pacific'], 'answer_start': [266]},\n",
       " 'translation': 'オランダ人が奴隷貿易を行っていた場所は?',\n",
       " 'backtranslation': 'Where did the Dutch trade slaves?',\n",
       " 'source_lang': 'en-US',\n",
       " 'pivot_lang': 'ja'}"
      ]
     },
     "execution_count": 44,
     "metadata": {},
     "output_type": "execute_result"
    }
   ],
   "source": [
    "japanese_data[0]"
   ]
  },
  {
   "cell_type": "code",
   "execution_count": 43,
   "metadata": {},
   "outputs": [
    {
     "data": {
      "text/plain": [
       "(1000, 9)"
      ]
     },
     "execution_count": 43,
     "metadata": {},
     "output_type": "execute_result"
    }
   ],
   "source": [
    "japanese_df.shape"
   ]
  },
  {
   "cell_type": "code",
   "execution_count": 45,
   "metadata": {},
   "outputs": [],
   "source": [
    "japanese_df.to_json(JAPANESE_CONSOLIDATED_DATA_FILEPATH, orient='records', lines=True)"
   ]
  },
  {
   "cell_type": "code",
   "execution_count": null,
   "metadata": {},
   "outputs": [],
   "source": []
  }
 ],
 "metadata": {
  "interpreter": {
   "hash": "de689e674649c5f62214f4dfd7b84d13966361037ae66bb1321bdde5e22abae3"
  },
  "kernelspec": {
   "display_name": "Python 3.9.7 ('.final_project_venv': venv)",
   "language": "python",
   "name": "python3"
  },
  "language_info": {
   "codemirror_mode": {
    "name": "ipython",
    "version": 3
   },
   "file_extension": ".py",
   "mimetype": "text/x-python",
   "name": "python",
   "nbconvert_exporter": "python",
   "pygments_lexer": "ipython3",
   "version": "3.9.7"
  },
  "orig_nbformat": 4
 },
 "nbformat": 4,
 "nbformat_minor": 2
}
