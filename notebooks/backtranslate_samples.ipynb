{
 "cells": [
  {
   "cell_type": "markdown",
   "metadata": {},
   "source": [
    "# Backtranslate the samples"
   ]
  },
  {
   "cell_type": "code",
   "execution_count": 115,
   "metadata": {},
   "outputs": [],
   "source": [
    "import ast\n",
    "import json\n",
    "import os\n",
    "from pprint import pprint\n",
    "from typing import Dict\n",
    "\n",
    "from google.cloud import translate"
   ]
  },
  {
   "cell_type": "code",
   "execution_count": 116,
   "metadata": {},
   "outputs": [],
   "source": [
    "ROOT_FP = \"../data/\"\n",
    "TRANSLATED_DATA_FP = \"../data/translations/\"\n",
    "samples_to_translate_filename = \"samples_to_translate.jsonl\"\n",
    "samples_to_translate_fp = os.path.join(ROOT_FP, samples_to_translate_filename)"
   ]
  },
  {
   "cell_type": "code",
   "execution_count": 117,
   "metadata": {},
   "outputs": [],
   "source": [
    "os.environ[\"GOOGLE_APPLICATION_CREDENTIALS\"] = \"../credentials.json\""
   ]
  },
  {
   "cell_type": "code",
   "execution_count": 118,
   "metadata": {},
   "outputs": [],
   "source": [
    "PROJECT_ID = \"nlp2022-final-project\"\n",
    "LOCATION= \"global\"\n",
    "PARENT = f\"projects/{PROJECT_ID}/locations/{LOCATION}\"\n",
    "\n",
    "GOOGLE_CLIENT = translate.TranslationServiceClient()"
   ]
  },
  {
   "cell_type": "code",
   "execution_count": 119,
   "metadata": {},
   "outputs": [],
   "source": [
    "ROOT_SOURCE_LANG = \"en-US\"\n",
    "SPANISH_PIVOT_LANG = \"es\"\n",
    "JAPANESE_PIVOT_LANG = \"ja\""
   ]
  },
  {
   "cell_type": "markdown",
   "metadata": {},
   "source": [
    "## Load samples"
   ]
  },
  {
   "cell_type": "code",
   "execution_count": 120,
   "metadata": {},
   "outputs": [],
   "source": [
    "samples_to_translate_lst = []\n",
    "\n",
    "with open(samples_to_translate_fp, 'r') as f:\n",
    "    for line in f.readlines():\n",
    "        samples_to_translate_lst.append(\n",
    "            ast.literal_eval(line)\n",
    "        )"
   ]
  },
  {
   "cell_type": "code",
   "execution_count": 121,
   "metadata": {},
   "outputs": [
    {
     "data": {
      "text/plain": [
       "{'id': '56de57394396321400ee2830',\n",
       " 'title': 'Institute_of_technology',\n",
       " 'context': 'In Turkey and the Ottoman Empire, the oldest technical university is Istanbul Technical University. Its graduates contributed to a wide variety of activities in scientific research and development. In 1950s, 2 technical universities were opened in Ankara and Trabzon. In recent years, Yildiz University is reorganized as Yildiz Technical University and 2 institutes of technology were founded in Kocaeli and Izmir. In 2010, another technical university named Bursa Technical University was founded in Bursa. Moreover, a sixth technical university is about to be opened in Konya named Konya Technical University.',\n",
       " 'question': 'When Konya Technical University opens, how many total institutes of technology will there be in Turkey and the Ottoman Empire?',\n",
       " 'answers': {'text': ['six'], 'answer_start': [520]}}"
      ]
     },
     "execution_count": 121,
     "metadata": {},
     "output_type": "execute_result"
    }
   ],
   "source": [
    "samples_to_translate_lst[0]"
   ]
  },
  {
   "cell_type": "markdown",
   "metadata": {},
   "source": [
    "## Create helper functions"
   ]
  },
  {
   "cell_type": "code",
   "execution_count": 122,
   "metadata": {},
   "outputs": [],
   "source": [
    "def translate_text(\n",
    "    text: str, source_lang: str, target_lang: str\n",
    ") -> str:\n",
    "    response = GOOGLE_CLIENT.translate_text(\n",
    "        request={\n",
    "            \"parent\": PARENT,\n",
    "            \"contents\": [text],\n",
    "            \"mime_type\": \"text/plain\",\n",
    "            \"source_language_code\": source_lang,\n",
    "            \"target_language_code\": target_lang,\n",
    "        }\n",
    "    )\n",
    "    return response.translations[0].translated_text"
   ]
  },
  {
   "cell_type": "code",
   "execution_count": 123,
   "metadata": {},
   "outputs": [],
   "source": [
    "def backtranslate_text(text: str, source_lang: str, pivot_lang: str) -> str:\n",
    "    source_to_pivot_translation = translate_text(\n",
    "        text=text, source_lang=source_lang, target_lang=pivot_lang\n",
    "    )\n",
    "    pivot_to_source_translation = translate_text(\n",
    "        text=source_to_pivot_translation, source_lang=pivot_lang,\n",
    "        target_lang=source_lang\n",
    "    )\n",
    "    return {\n",
    "        \"translation\": source_to_pivot_translation,\n",
    "        \"backtranslation\":pivot_to_source_translation\n",
    "    }"
   ]
  },
  {
   "cell_type": "code",
   "execution_count": 124,
   "metadata": {},
   "outputs": [],
   "source": [
    "def translate_sample(\n",
    "    object_dict: Dict, source_lang: str, pivot_lang: str\n",
    "):\n",
    "    text = object_dict[\"question\"]\n",
    "    backtranslation_dict = backtranslate_text(\n",
    "        text=text, source_lang=source_lang, pivot_lang=pivot_lang\n",
    "    )\n",
    "    return {\n",
    "        **object_dict,\n",
    "        **backtranslation_dict,\n",
    "        **{\n",
    "            \"source_lang\": source_lang,\n",
    "            \"pivot_lang\": pivot_lang   \n",
    "        }\n",
    "    }\n"
   ]
  },
  {
   "cell_type": "code",
   "execution_count": 125,
   "metadata": {},
   "outputs": [],
   "source": [
    "def write_json(object_dict: Dict, write_path: str):\n",
    "    with open(write_path, 'w') as f:\n",
    "        f.write(json.dumps(object_dict))\n"
   ]
  },
  {
   "cell_type": "code",
   "execution_count": 126,
   "metadata": {},
   "outputs": [],
   "source": [
    "def process_sample(\n",
    "    object_dict: Dict,\n",
    "    source_lang: str,\n",
    "    pivot_lang: str,\n",
    "    write_dir: str\n",
    ") -> Dict:\n",
    "    processed_dict = translate_sample(\n",
    "        object_dict=object_dict, source_lang=source_lang, pivot_lang=pivot_lang\n",
    "    )\n",
    "    filename = f\"{object_dict['id']}.json\"\n",
    "    fp = os.path.join(write_dir, filename)\n",
    "    write_json(processed_dict, fp)\n",
    "    return processed_dict"
   ]
  },
  {
   "cell_type": "markdown",
   "metadata": {},
   "source": [
    "## Do backtranslation from English to Spanish"
   ]
  },
  {
   "cell_type": "code",
   "execution_count": 134,
   "metadata": {},
   "outputs": [],
   "source": [
    "SPANISH_TEST_COUNT = 1000"
   ]
  },
  {
   "cell_type": "code",
   "execution_count": 135,
   "metadata": {},
   "outputs": [],
   "source": [
    "spanish_write_dir = \"../data/translations/es\""
   ]
  },
  {
   "cell_type": "code",
   "execution_count": 136,
   "metadata": {},
   "outputs": [],
   "source": [
    "current_spanish_translations = os.listdir(spanish_write_dir)"
   ]
  },
  {
   "cell_type": "code",
   "execution_count": 140,
   "metadata": {},
   "outputs": [],
   "source": [
    "for i in range(SPANISH_TEST_COUNT):\n",
    "    filename = f\"{samples_to_translate_lst[i]['id']}.json\"\n",
    "    if i % 50 == 0:\n",
    "        print(f\"Sample {i} out of {SPANISH_TEST_COUNT}\")\n",
    "    if filename not in current_spanish_translations:\n",
    "        try:\n",
    "            backtranslated_sample = process_sample(\n",
    "                object_dict=samples_to_translate_lst[i],\n",
    "                source_lang=ROOT_SOURCE_LANG,\n",
    "                pivot_lang=SPANISH_PIVOT_LANG,\n",
    "                write_dir=spanish_write_dir\n",
    "            )\n",
    "        except Exception as e:\n",
    "            print(f\"Error {e} on sample {i} in the Spanish backtranslation\")\n",
    "        "
   ]
  },
  {
   "cell_type": "markdown",
   "metadata": {},
   "source": [
    "## Do backtranslation from English to Japanese"
   ]
  },
  {
   "cell_type": "code",
   "execution_count": 152,
   "metadata": {},
   "outputs": [],
   "source": [
    "JAPANESE_TEST_COUNT = 1000"
   ]
  },
  {
   "cell_type": "code",
   "execution_count": 153,
   "metadata": {},
   "outputs": [],
   "source": [
    "japanese_write_dir = \"../data/translations/ja\""
   ]
  },
  {
   "cell_type": "code",
   "execution_count": 143,
   "metadata": {},
   "outputs": [],
   "source": [
    "current_japanese_translations = os.listdir(japanese_write_dir)"
   ]
  },
  {
   "cell_type": "code",
   "execution_count": 154,
   "metadata": {},
   "outputs": [
    {
     "name": "stdout",
     "output_type": "stream",
     "text": [
      "Sample 0 out of 1000\n",
      "Sample 50 out of 1000\n",
      "Sample 100 out of 1000\n",
      "Sample 150 out of 1000\n",
      "Sample 200 out of 1000\n",
      "Sample 250 out of 1000\n",
      "Sample 300 out of 1000\n",
      "Sample 350 out of 1000\n",
      "Sample 400 out of 1000\n",
      "Sample 450 out of 1000\n",
      "Sample 500 out of 1000\n",
      "Sample 550 out of 1000\n",
      "Sample 600 out of 1000\n",
      "Sample 650 out of 1000\n",
      "Sample 700 out of 1000\n",
      "Sample 750 out of 1000\n"
     ]
    }
   ],
   "source": [
    "for i in range(JAPANESE_TEST_COUNT):\n",
    "    filename = f\"{samples_to_translate_lst[i]['id']}.json\"\n",
    "    if i % 50 == 0:\n",
    "        print(f\"Sample {i} out of {JAPANESE_TEST_COUNT}\")\n",
    "    if filename not in current_japanese_translations:\n",
    "        try:\n",
    "            processed_dict = process_sample(\n",
    "                object_dict=samples_to_translate_lst[i],\n",
    "                source_lang=ROOT_SOURCE_LANG,\n",
    "                pivot_lang=JAPANESE_PIVOT_LANG,\n",
    "                write_dir=japanese_write_dir\n",
    "            )\n",
    "        except Exception as e:\n",
    "            print(f\"Error {e} on sample {i} in the Japanese backtranslation\")"
   ]
  },
  {
   "cell_type": "code",
   "execution_count": null,
   "metadata": {},
   "outputs": [],
   "source": []
  }
 ],
 "metadata": {
  "interpreter": {
   "hash": "de689e674649c5f62214f4dfd7b84d13966361037ae66bb1321bdde5e22abae3"
  },
  "kernelspec": {
   "display_name": "Python 3.9.7 ('.final_project_venv': venv)",
   "language": "python",
   "name": "python3"
  },
  "language_info": {
   "codemirror_mode": {
    "name": "ipython",
    "version": 3
   },
   "file_extension": ".py",
   "mimetype": "text/x-python",
   "name": "python",
   "nbconvert_exporter": "python",
   "pygments_lexer": "ipython3",
   "version": "3.9.7"
  },
  "orig_nbformat": 4
 },
 "nbformat": 4,
 "nbformat_minor": 2
}
