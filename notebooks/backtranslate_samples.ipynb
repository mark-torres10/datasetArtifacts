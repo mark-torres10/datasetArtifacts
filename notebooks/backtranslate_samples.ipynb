{
 "cells": [
  {
   "cell_type": "markdown",
   "metadata": {},
   "source": [
    "# Backtranslate the samples"
   ]
  },
  {
   "cell_type": "code",
   "execution_count": 87,
   "metadata": {},
   "outputs": [],
   "source": [
    "import ast\n",
    "import json\n",
    "import os\n",
    "from pprint import pprint\n",
    "from typing import Dict\n",
    "\n",
    "from google.cloud import translate"
   ]
  },
  {
   "cell_type": "code",
   "execution_count": 62,
   "metadata": {},
   "outputs": [],
   "source": [
    "ROOT_FP = \"../data/\"\n",
    "TRANSLATED_DATA_FP = \"../data/translations/\"\n",
    "samples_to_translate_filename = \"samples_to_translate.jsonl\"\n",
    "samples_to_translate_fp = os.path.join(ROOT_FP, samples_to_translate_filename)"
   ]
  },
  {
   "cell_type": "code",
   "execution_count": 63,
   "metadata": {},
   "outputs": [],
   "source": [
    "os.environ[\"GOOGLE_APPLICATION_CREDENTIALS\"] = \"../credentials.json\""
   ]
  },
  {
   "cell_type": "code",
   "execution_count": 64,
   "metadata": {},
   "outputs": [],
   "source": [
    "PROJECT_ID = \"nlp2022-final-project\"\n",
    "LOCATION= \"global\"\n",
    "PARENT = f\"projects/{PROJECT_ID}/locations/{LOCATION}\"\n",
    "\n",
    "GOOGLE_CLIENT = translate.TranslationServiceClient()"
   ]
  },
  {
   "cell_type": "code",
   "execution_count": 84,
   "metadata": {},
   "outputs": [],
   "source": [
    "ROOT_SOURCE_LANG = \"en-US\"\n",
    "SPANISH_PIVOT_LANG = \"es\"\n",
    "JAPANESE_PIVOT_LANG = \"ja\""
   ]
  },
  {
   "cell_type": "markdown",
   "metadata": {},
   "source": [
    "## Load samples"
   ]
  },
  {
   "cell_type": "code",
   "execution_count": 66,
   "metadata": {},
   "outputs": [],
   "source": [
    "samples_to_translate_lst = []\n",
    "\n",
    "with open(samples_to_translate_fp, 'r') as f:\n",
    "    for line in f.readlines():\n",
    "        samples_to_translate_lst.append(\n",
    "            ast.literal_eval(line)\n",
    "        )"
   ]
  },
  {
   "cell_type": "code",
   "execution_count": 68,
   "metadata": {},
   "outputs": [
    {
     "data": {
      "text/plain": [
       "{'id': '56de57394396321400ee2830',\n",
       " 'title': 'Institute_of_technology',\n",
       " 'context': 'In Turkey and the Ottoman Empire, the oldest technical university is Istanbul Technical University. Its graduates contributed to a wide variety of activities in scientific research and development. In 1950s, 2 technical universities were opened in Ankara and Trabzon. In recent years, Yildiz University is reorganized as Yildiz Technical University and 2 institutes of technology were founded in Kocaeli and Izmir. In 2010, another technical university named Bursa Technical University was founded in Bursa. Moreover, a sixth technical university is about to be opened in Konya named Konya Technical University.',\n",
       " 'question': 'When Konya Technical University opens, how many total institutes of technology will there be in Turkey and the Ottoman Empire?',\n",
       " 'answers': {'text': ['six'], 'answer_start': [520]}}"
      ]
     },
     "execution_count": 68,
     "metadata": {},
     "output_type": "execute_result"
    }
   ],
   "source": [
    "samples_to_translate_lst[0]"
   ]
  },
  {
   "cell_type": "markdown",
   "metadata": {},
   "source": [
    "## Set up access to Google API, Google Translate"
   ]
  },
  {
   "cell_type": "code",
   "execution_count": 35,
   "metadata": {},
   "outputs": [],
   "source": [
    "def translate_text(text=\"Hello, world!\", project_id=\"nlp2022-final-project\"):\n",
    "\n",
    "    client = translate.TranslationServiceClient()\n",
    "    location = \"global\"\n",
    "    parent = f\"projects/{project_id}/locations/{location}\"\n",
    "\n",
    "    response = client.translate_text(\n",
    "        request={\n",
    "            \"parent\": parent,\n",
    "            \"contents\": [text],\n",
    "            \"mime_type\": \"text/plain\",\n",
    "            \"source_language_code\": \"en-US\",\n",
    "            \"target_language_code\": \"es\",\n",
    "        }\n",
    "    )\n",
    "\n",
    "    for translation in response.translations:\n",
    "        print(\"Translated text: {}\".format(translation.translated_text))\n",
    "\n"
   ]
  },
  {
   "cell_type": "code",
   "execution_count": 39,
   "metadata": {},
   "outputs": [
    {
     "name": "stdout",
     "output_type": "stream",
     "text": [
      "Translated text: ¡Hola Mundo!\n"
     ]
    }
   ],
   "source": [
    "translate_text()"
   ]
  },
  {
   "cell_type": "markdown",
   "metadata": {},
   "source": [
    "## Create helper functions"
   ]
  },
  {
   "cell_type": "code",
   "execution_count": 77,
   "metadata": {},
   "outputs": [],
   "source": [
    "def translate_text(\n",
    "    text: str, source_lang: str, target_lang: str\n",
    ") -> str:\n",
    "    response = GOOGLE_CLIENT.translate_text(\n",
    "        request={\n",
    "            \"parent\": PARENT,\n",
    "            \"contents\": [text],\n",
    "            \"mime_type\": \"text/plain\",\n",
    "            \"source_language_code\": source_lang,\n",
    "            \"target_language_code\": target_lang,\n",
    "        }\n",
    "    )\n",
    "    print(response.translations)\n",
    "    return response.translations[0].translated_text"
   ]
  },
  {
   "cell_type": "code",
   "execution_count": 72,
   "metadata": {},
   "outputs": [],
   "source": [
    "def backtranslate_text(text: str, source_lang: str, pivot_lang: str) -> str:\n",
    "    source_to_pivot_translation = translate_text(\n",
    "        text=text, source_lang=source_lang, target_lang=pivot_lang\n",
    "    )\n",
    "    pivot_to_source_translation = translate_text(\n",
    "        text=source_to_pivot_translation, source_lang=pivot_lang,\n",
    "        target_lang=source_lang\n",
    "    )\n",
    "    return {\n",
    "        \"translation\": source_to_pivot_translation,\n",
    "        \"backtranslation\":pivot_to_source_translation\n",
    "    }"
   ]
  },
  {
   "cell_type": "code",
   "execution_count": 102,
   "metadata": {},
   "outputs": [],
   "source": [
    "def translate_sample(\n",
    "    object_dict: Dict, source_lang: str, pivot_lang: str\n",
    "):\n",
    "    text = object_dict[\"question\"]\n",
    "    backtranslation_dict = backtranslate_text(\n",
    "        text=text, source_lang=source_lang, pivot_lang=pivot_lang\n",
    "    )\n",
    "    return {\n",
    "        **object_dict,\n",
    "        **backtranslation_dict,\n",
    "        **{\n",
    "            \"source_lang\": source_lang,\n",
    "            \"pivot_lang\": pivot_lang   \n",
    "        }\n",
    "    }\n"
   ]
  },
  {
   "cell_type": "code",
   "execution_count": 89,
   "metadata": {},
   "outputs": [],
   "source": [
    "def write_json(object_dict: Dict, write_path: str):\n",
    "    with open(write_path, 'w') as f:\n",
    "        f.write(json.dumps(object_dict))\n"
   ]
  },
  {
   "cell_type": "code",
   "execution_count": 90,
   "metadata": {},
   "outputs": [],
   "source": [
    "def process_sample(\n",
    "    object_dict: Dict,\n",
    "    source_lang: str,\n",
    "    pivot_lang: str,\n",
    "    write_dir: str\n",
    ") -> Dict:\n",
    "    processed_dict = translate_sample(\n",
    "        object_dict=object_dict, source_lang=source_lang, pivot_lang=pivot_lang\n",
    "    )\n",
    "    filename = f\"{object_dict['id']}.json\"\n",
    "    fp = os.path.join(write_dir, filename)\n",
    "    write_json(processed_dict, fp)\n",
    "    return processed_dict"
   ]
  },
  {
   "cell_type": "markdown",
   "metadata": {},
   "source": [
    "## Do backtranslation from English to Spanish"
   ]
  },
  {
   "cell_type": "code",
   "execution_count": 95,
   "metadata": {},
   "outputs": [],
   "source": [
    "SPANISH_TEST_COUNT = 2"
   ]
  },
  {
   "cell_type": "code",
   "execution_count": 96,
   "metadata": {},
   "outputs": [],
   "source": [
    "spanish_write_dir = \"../data/translations/es\""
   ]
  },
  {
   "cell_type": "code",
   "execution_count": 97,
   "metadata": {},
   "outputs": [
    {
     "name": "stdout",
     "output_type": "stream",
     "text": [
      "[translated_text: \"Cuando se abra la Universidad Técnica de Konya, ¿cuántos institutos de tecnología habrá en total en Turquía y el Imperio Otomano?\"\n",
      "]\n",
      "[translated_text: \"When Konya Technical University opens, how many institutes of technology will there be in total in Turkey and the Ottoman Empire?\"\n",
      "]\n",
      "[translated_text: \"¿Qué dos ciudades de Turquía adquirieron institutos de tecnología en la década de 1950?\"\n",
      "]\n",
      "[translated_text: \"Which two cities in Turkey acquired institutes of technology in the 1950s?\"\n",
      "]\n"
     ]
    }
   ],
   "source": [
    "for i in range(SPANISH_TEST_COUNT):\n",
    "    process_sample(\n",
    "        object_dict=samples_to_translate_lst[i],\n",
    "        source_lang=ROOT_SOURCE_LANG,\n",
    "        pivot_lang=SPANISH_PIVOT_LANG,\n",
    "        write_dir=spanish_write_dir\n",
    "    )"
   ]
  },
  {
   "cell_type": "markdown",
   "metadata": {},
   "source": [
    "## Do backtranslation from English to Japanese"
   ]
  },
  {
   "cell_type": "code",
   "execution_count": 98,
   "metadata": {},
   "outputs": [],
   "source": [
    "JAPANESE_TEST_COUNT = 2"
   ]
  },
  {
   "cell_type": "code",
   "execution_count": 99,
   "metadata": {},
   "outputs": [],
   "source": [
    "japanese_write_dir = \"../data/translations/ja\""
   ]
  },
  {
   "cell_type": "code",
   "execution_count": 101,
   "metadata": {},
   "outputs": [
    {
     "name": "stdout",
     "output_type": "stream",
     "text": [
      "Sample 0\n",
      "[translated_text: \"コンヤ工科大学が開校したとき、トルコとオスマン帝国には合計でいくつの技術研究所ができますか?\"\n",
      "]\n",
      "[translated_text: \"How many technical institutes in total will there be in Turkey and the Ottoman Empire when the Konya University of Technology opens?\"\n",
      "]\n",
      "{'answers': {'answer_start': [520], 'text': ['six']},\n",
      " 'backtranslation': 'How many technical institutes in total will there be in '\n",
      "                    'Turkey and the Ottoman Empire when the Konya University '\n",
      "                    'of Technology opens?',\n",
      " 'context': 'In Turkey and the Ottoman Empire, the oldest technical university '\n",
      "            'is Istanbul Technical University. Its graduates contributed to a '\n",
      "            'wide variety of activities in scientific research and '\n",
      "            'development. In 1950s, 2 technical universities were opened in '\n",
      "            'Ankara and Trabzon. In recent years, Yildiz University is '\n",
      "            'reorganized as Yildiz Technical University and 2 institutes of '\n",
      "            'technology were founded in Kocaeli and Izmir. In 2010, another '\n",
      "            'technical university named Bursa Technical University was founded '\n",
      "            'in Bursa. Moreover, a sixth technical university is about to be '\n",
      "            'opened in Konya named Konya Technical University.',\n",
      " 'id': '56de57394396321400ee2830',\n",
      " 'question': 'When Konya Technical University opens, how many total institutes '\n",
      "             'of technology will there be in Turkey and the Ottoman Empire?',\n",
      " 'title': 'Institute_of_technology',\n",
      " 'translation': 'コンヤ工科大学が開校したとき、トルコとオスマン帝国には合計でいくつの技術研究所ができますか?'}\n",
      "----------\n",
      "Sample 1\n",
      "[translated_text: \"1950年代に技術研究所を取得したトルコの2つの都市は?\"\n",
      "]\n",
      "[translated_text: \"Which two Turkish cities acquired technical institutes in the 1950s?\"\n",
      "]\n",
      "{'answers': {'answer_start': [248], 'text': ['Ankara and Trabzon']},\n",
      " 'backtranslation': 'Which two Turkish cities acquired technical institutes in '\n",
      "                    'the 1950s?',\n",
      " 'context': 'In Turkey and the Ottoman Empire, the oldest technical university '\n",
      "            'is Istanbul Technical University. Its graduates contributed to a '\n",
      "            'wide variety of activities in scientific research and '\n",
      "            'development. In 1950s, 2 technical universities were opened in '\n",
      "            'Ankara and Trabzon. In recent years, Yildiz University is '\n",
      "            'reorganized as Yildiz Technical University and 2 institutes of '\n",
      "            'technology were founded in Kocaeli and Izmir. In 2010, another '\n",
      "            'technical university named Bursa Technical University was founded '\n",
      "            'in Bursa. Moreover, a sixth technical university is about to be '\n",
      "            'opened in Konya named Konya Technical University.',\n",
      " 'id': '56de57394396321400ee2831',\n",
      " 'question': 'What two cities in Turkey acquired institutes of technology in '\n",
      "             'the 1950s?',\n",
      " 'title': 'Institute_of_technology',\n",
      " 'translation': '1950年代に技術研究所を取得したトルコの2つの都市は?'}\n",
      "----------\n"
     ]
    }
   ],
   "source": [
    "for i in range(JAPANESE_TEST_COUNT):\n",
    "    print(f\"Sample {i}\")\n",
    "    processed_dict = process_sample(\n",
    "        object_dict=samples_to_translate_lst[i],\n",
    "        source_lang=ROOT_SOURCE_LANG,\n",
    "        pivot_lang=JAPANESE_PIVOT_LANG,\n",
    "        write_dir=japanese_write_dir\n",
    "    )\n",
    "    pprint(processed_dict)\n",
    "    print('-' * 10)"
   ]
  },
  {
   "cell_type": "code",
   "execution_count": null,
   "metadata": {},
   "outputs": [],
   "source": []
  }
 ],
 "metadata": {
  "interpreter": {
   "hash": "de689e674649c5f62214f4dfd7b84d13966361037ae66bb1321bdde5e22abae3"
  },
  "kernelspec": {
   "display_name": "Python 3.9.7 ('.final_project_venv': venv)",
   "language": "python",
   "name": "python3"
  },
  "language_info": {
   "codemirror_mode": {
    "name": "ipython",
    "version": 3
   },
   "file_extension": ".py",
   "mimetype": "text/x-python",
   "name": "python",
   "nbconvert_exporter": "python",
   "pygments_lexer": "ipython3",
   "version": "3.9.7"
  },
  "orig_nbformat": 4
 },
 "nbformat": 4,
 "nbformat_minor": 2
}
